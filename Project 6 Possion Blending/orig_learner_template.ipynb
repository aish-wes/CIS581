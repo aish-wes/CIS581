{
 "cells": [
  {
   "cell_type": "code",
   "execution_count": 1,
   "metadata": {
    "colab": {},
    "colab_type": "code",
    "execution": {
     "iopub.execute_input": "2021-10-31T17:10:43.020575Z",
     "iopub.status.busy": "2021-10-31T17:10:43.020299Z",
     "iopub.status.idle": "2021-10-31T17:10:43.752962Z",
     "shell.execute_reply": "2021-10-31T17:10:43.751932Z",
     "shell.execute_reply.started": "2021-10-31T17:10:43.020510Z"
    },
    "id": "XT89BTJ-1TQB"
   },
   "outputs": [
    {
     "ename": "ModuleNotFoundError",
     "evalue": "No module named 'google'",
     "output_type": "error",
     "traceback": [
      "\u001b[0;31m---------------------------------------------------------------------------\u001b[0m",
      "\u001b[0;31mModuleNotFoundError\u001b[0m                       Traceback (most recent call last)",
      "\u001b[0;32m/var/folders/tm/28r5l8fx5zq3fcw2f_20377w0000gn/T/ipykernel_17642/2473050273.py\u001b[0m in \u001b[0;36m<module>\u001b[0;34m\u001b[0m\n\u001b[1;32m      6\u001b[0m \u001b[0;32mfrom\u001b[0m \u001b[0mscipy\u001b[0m\u001b[0;34m.\u001b[0m\u001b[0msparse\u001b[0m\u001b[0;34m.\u001b[0m\u001b[0mlinalg\u001b[0m \u001b[0;32mimport\u001b[0m \u001b[0mspsolve\u001b[0m\u001b[0;34m\u001b[0m\u001b[0;34m\u001b[0m\u001b[0m\n\u001b[1;32m      7\u001b[0m \u001b[0;32mimport\u001b[0m \u001b[0mscipy\u001b[0m\u001b[0;34m.\u001b[0m\u001b[0msignal\u001b[0m \u001b[0;32mas\u001b[0m \u001b[0msignal\u001b[0m\u001b[0;34m\u001b[0m\u001b[0;34m\u001b[0m\u001b[0m\n\u001b[0;32m----> 8\u001b[0;31m \u001b[0;32mfrom\u001b[0m \u001b[0mgoogle\u001b[0m\u001b[0;34m.\u001b[0m\u001b[0mcolab\u001b[0m \u001b[0;32mimport\u001b[0m \u001b[0mfiles\u001b[0m\u001b[0;34m\u001b[0m\u001b[0;34m\u001b[0m\u001b[0m\n\u001b[0m",
      "\u001b[0;31mModuleNotFoundError\u001b[0m: No module named 'google'"
     ]
    }
   ],
   "source": [
    "import scipy\n",
    "import matplotlib.pyplot as plt\n",
    "import numpy as np\n",
    "from PIL import Image\n",
    "import scipy.sparse as sparse\n",
    "from scipy.sparse.linalg import spsolve\n",
    "import scipy.signal as signal\n",
    "from google.colab import files"
   ]
  },
  {
   "cell_type": "code",
   "execution_count": null,
   "metadata": {
    "colab": {},
    "colab_type": "code",
    "id": "6eea2ApU9moy"
   },
   "outputs": [],
   "source": [
    "uploaded = files.upload()"
   ]
  },
  {
   "cell_type": "code",
   "execution_count": null,
   "metadata": {
    "colab": {},
    "colab_type": "code",
    "id": "-_T63qUA95re"
   },
   "outputs": [],
   "source": [
    "def getIndexes(mask, targetH, targetW, offsetX=0, offsetY=0):\n",
    "    \"\"\" Creates indexes in the target image, each replacement pixel in the\n",
    "    target image would get index starting from 1, other pixels get 0 in the indexes.\n",
    "\n",
    "    Args:\n",
    "    mask: SrcH * SrcW, logical mask of source image\n",
    "    targetH, targetW: int, height and width of target image\n",
    "    offsetX, offsetY: int, offset of replacement pixel area from source to target\n",
    "\n",
    "    Return:\n",
    "    indexes: targetH * targetW, indexes of target image\n",
    "    \"\"\"\n",
    "    # IMPLEMENT HERE\n",
    "    # you might find numpy.meshgrid and numpy.arange useful"
   ]
  },
  {
   "cell_type": "code",
   "execution_count": null,
   "metadata": {
    "colab": {},
    "colab_type": "code",
    "id": "jAqMW2A_96qD"
   },
   "outputs": [],
   "source": [
    "def getCoefficientMatrix(indexes):\n",
    "  \"\"\"\n",
    "  constructs the coefficient matrix(A in Ax=b)\n",
    "  \n",
    "  Args: \n",
    "  indexes: targetH * targetW, indexes of target image starting from 1, 0 if not in target area \n",
    "  \n",
    "  returns:\n",
    "  coeffA: N * N(N is max index), a matrix corresponds to laplacian kernel, 4 on the diagonal and -1 for each neighbor\n",
    "  \"\"\"\n",
    "  # IMPLEMENT HERE\n",
    "  # the coefficient matrix is by nature sparse. consider using scipy.sparse.csr_matrixr"
   ]
  },
  {
   "cell_type": "code",
   "execution_count": null,
   "metadata": {
    "colab": {},
    "colab_type": "code",
    "id": "lV-WlGXC961h"
   },
   "outputs": [],
   "source": [
    "def getSolutionVect(indexes, source, target, offsetX, offsetY):\n",
    "    \"\"\"\n",
    "    constructs the target solution vector(b in Ax=b) \n",
    "    \n",
    "    Args:\n",
    "    indexes:  targetH * targetW, indexes of replacement area\n",
    "    source, target: source and target image\n",
    "    offsetX, offsetY: offset of source image origin in the target image\n",
    "\n",
    "    Returns:\n",
    "    solution vector b (for single channel)\n",
    "    \"\"\"\n",
    "    # IMPLEMENT HERE\n",
    "    # 1. get Laplacian part of b from source image\n",
    "    \n",
    "    # 2. get pixel part of b from target image\n",
    "\n",
    "    # 3. add two parts together to get b\n",
    "    "
   ]
  },
  {
   "cell_type": "code",
   "execution_count": null,
   "metadata": {
    "colab": {},
    "colab_type": "code",
    "id": "jSrENCMb-Rsj"
   },
   "outputs": [],
   "source": [
    "def solveEqu(A, b):\n",
    "  \"\"\"\n",
    "  solve the equation Ax = b to get replacement pixels x in the replacement area\n",
    "  Note: A is a sparse matrix, so we need to use coresponding function to solve it\n",
    "\n",
    "  Args:\n",
    "  - A: Laplacian coefficient matrix\n",
    "  - b: target solution vector\n",
    "  \n",
    "  Returns:\n",
    "  - x: solution of Ax = b\n",
    "  \"\"\"\n",
    "  # IMPLEMENT HERE\n",
    "  # you may find scipy.sparse.linalg.spsolve "
   ]
  },
  {
   "cell_type": "code",
   "execution_count": null,
   "metadata": {
    "colab": {},
    "colab_type": "code",
    "id": "DvfIsb8iHt49"
   },
   "outputs": [],
   "source": [
    "def reconstructImg(indexes, red, green, blue, targetImg):\n",
    "    \"\"\"\n",
    "    reconstruct the target image with new red, green, blue channel values in th\n",
    "    e indexes area\n",
    "\n",
    "    red, green, blue: 1 x N, three chanels for replacement pixels\n",
    "    \"\"\"\n",
    "    # 1. get nonzero component in indexes\n",
    "\n",
    "    # 2. stack three channels together with numpy dstack\n",
    "\n",
    "    # 3. copy new pixels in the indexes area to the target image \n",
    "    # use numpy copy to make a copy of targetImg, otherwise the original targetImg might change, too\n"
   ]
  },
  {
   "cell_type": "code",
   "execution_count": null,
   "metadata": {
    "colab": {},
    "colab_type": "code",
    "id": "KjWbObjj9WcE"
   },
   "outputs": [],
   "source": [
    "\"\"\"\n",
    "Function (do not modify)\n",
    "\"\"\"\n",
    "def seamlessCloningPoisson(sourceImg, targetImg, mask, offsetX, offsetY):\n",
    "    \"\"\"\n",
    "    Wrapper function to put all steps together\n",
    "    Args:\n",
    "    - sourceImg, targetImg: source and targe image\n",
    "    - mask: masked area in the source image\n",
    "    - offsetX, offsetY: offset of the mask in the target image\n",
    "    Returns:\n",
    "    - ResultImg: result image\n",
    "    \"\"\"\n",
    "    # step 1: index replacement pixels\n",
    "    indexes = getIndexes(mask, targetImg.shape[0], targetImg.shape[1], offsetX,\n",
    "                         offsetY)\n",
    "    # step 2: compute the Laplacian matrix A\n",
    "    A = getCoefficientMatrix(indexes)\n",
    "\n",
    "    # step 3: for each color channel, compute the solution vector b\n",
    "    red, green, blue = [\n",
    "        getSolutionVect(indexes, sourceImg[:, :, i], targetImg[:, :, i],\n",
    "                        offsetX, offsetY).T for i in range(3)\n",
    "    ]\n",
    "\n",
    "    # step 4: solve for the equation Ax = b to get the new pixels in the replacement area\n",
    "    new_red, new_green, new_blue = [\n",
    "        solveEqu(A, channel)\n",
    "        for channel in [red, green, blue]\n",
    "    ]\n",
    "\n",
    "    # step 5: reconstruct the image with new color channel\n",
    "    resultImg = reconstructImg(indexes, new_red, new_green, new_blue,\n",
    "                               targetImg)\n",
    "    return resultImg"
   ]
  },
  {
   "cell_type": "code",
   "execution_count": null,
   "metadata": {
    "colab": {},
    "colab_type": "code",
    "execution": {
     "iopub.execute_input": "2021-11-01T16:56:56.896742Z",
     "iopub.status.busy": "2021-11-01T16:56:56.896263Z",
     "iopub.status.idle": "2021-11-01T16:56:57.098483Z",
     "shell.execute_reply": "2021-11-01T16:56:57.097532Z",
     "shell.execute_reply.started": "2021-11-01T16:56:56.896666Z"
    },
    "id": "j3apq2b91j0c"
   },
   "outputs": [
    {
     "ename": "NameError",
     "evalue": "name 'np' is not defined",
     "output_type": "error",
     "traceback": [
      "\u001b[0;31m---------------------------------------------------------------------------\u001b[0m",
      "\u001b[0;31mNameError\u001b[0m                                 Traceback (most recent call last)",
      "\u001b[0;32m/var/folders/tm/28r5l8fx5zq3fcw2f_20377w0000gn/T/ipykernel_4113/4227766931.py\u001b[0m in \u001b[0;36m<module>\u001b[0;34m\u001b[0m\n\u001b[1;32m      4\u001b[0m \u001b[0;32mfrom\u001b[0m \u001b[0mPIL\u001b[0m \u001b[0;32mimport\u001b[0m \u001b[0mImage\u001b[0m\u001b[0;34m\u001b[0m\u001b[0;34m\u001b[0m\u001b[0m\n\u001b[1;32m      5\u001b[0m \u001b[0msrc_path\u001b[0m \u001b[0;34m=\u001b[0m \u001b[0;34m'source_3.jpg'\u001b[0m\u001b[0;34m\u001b[0m\u001b[0;34m\u001b[0m\u001b[0m\n\u001b[0;32m----> 6\u001b[0;31m \u001b[0msrc\u001b[0m \u001b[0;34m=\u001b[0m \u001b[0mnp\u001b[0m\u001b[0;34m.\u001b[0m\u001b[0marray\u001b[0m\u001b[0;34m(\u001b[0m\u001b[0mImage\u001b[0m\u001b[0;34m.\u001b[0m\u001b[0mopen\u001b[0m\u001b[0;34m(\u001b[0m\u001b[0msrc_path\u001b[0m\u001b[0;34m)\u001b[0m\u001b[0;34m.\u001b[0m\u001b[0mconvert\u001b[0m\u001b[0;34m(\u001b[0m\u001b[0;34m'RGB'\u001b[0m\u001b[0;34m)\u001b[0m\u001b[0;34m,\u001b[0m \u001b[0;34m'f'\u001b[0m\u001b[0;34m)\u001b[0m \u001b[0;34m/\u001b[0m \u001b[0;36m255\u001b[0m\u001b[0;34m\u001b[0m\u001b[0;34m\u001b[0m\u001b[0m\n\u001b[0m\u001b[1;32m      7\u001b[0m \u001b[0mtarget_path\u001b[0m  \u001b[0;34m=\u001b[0m\u001b[0;34m'target_3.jpg'\u001b[0m\u001b[0;34m\u001b[0m\u001b[0;34m\u001b[0m\u001b[0m\n\u001b[1;32m      8\u001b[0m \u001b[0mtarget\u001b[0m \u001b[0;34m=\u001b[0m \u001b[0mnp\u001b[0m\u001b[0;34m.\u001b[0m\u001b[0marray\u001b[0m\u001b[0;34m(\u001b[0m\u001b[0mImage\u001b[0m\u001b[0;34m.\u001b[0m\u001b[0mopen\u001b[0m\u001b[0;34m(\u001b[0m\u001b[0mtarget_path\u001b[0m\u001b[0;34m)\u001b[0m\u001b[0;34m.\u001b[0m\u001b[0mconvert\u001b[0m\u001b[0;34m(\u001b[0m\u001b[0;34m'RGB'\u001b[0m\u001b[0;34m)\u001b[0m\u001b[0;34m,\u001b[0m \u001b[0;34m'f'\u001b[0m\u001b[0;34m)\u001b[0m \u001b[0;34m/\u001b[0m \u001b[0;36m255\u001b[0m\u001b[0;34m\u001b[0m\u001b[0;34m\u001b[0m\u001b[0m\n",
      "\u001b[0;31mNameError\u001b[0m: name 'np' is not defined"
     ]
    }
   ],
   "source": [
    "\"\"\"\n",
    "Script (do not modify)\n",
    "\"\"\"\n",
    "src_path = 'source_3.jpg'\n",
    "src = np.array(Image.open(src_path).convert('RGB'), 'f') / 255\n",
    "target_path  ='target_3.jpg'\n",
    "target = np.array(Image.open(target_path).convert('RGB'), 'f') / 255\n",
    "offsetX = 40\n",
    "offsetY = 20\n",
    "mask_path = 'mask_3.bmp'\n",
    "mask = np.array(Image.open(mask_path)) > 0\n",
    "result = seamlessCloningPoisson(src, target, mask, offsetX, offsetY)\n",
    "plt.imshow(result)\n",
    "plt.show()\n",
    "cloned = Image.fromarray((np.clip(result, 0, 1) * 255).astype(np.uint8))\n",
    "cloned.save('cloned.png')\n",
    "files.download('cloned.png')"
   ]
  },
  {
   "cell_type": "code",
   "execution_count": null,
   "metadata": {
    "colab": {},
    "colab_type": "code",
    "id": "RKvYgls91vHT"
   },
   "outputs": [],
   "source": [
    "def getSolutionVectMixing(indexes, source, target, offsetX, offsetY):\n",
    "    \"\"\"\n",
    "    constructs the target solution vector(b in Ax=b) \n",
    "    \n",
    "    Args:\n",
    "    indexes:  targetH * targetW, indexes of replacement area\n",
    "    source, target: source and target image\n",
    "    offsetX, offsetY: offset of source image origin in the target image\n",
    "\n",
    "    Returns:\n",
    "    solution vector b (for single channel)\n",
    "    \"\"\"\n",
    "    # IMPLEMENT HERE\n",
    "    # almost the same as getSolutionVect, need to change the Laplacian part of b"
   ]
  },
  {
   "cell_type": "code",
   "execution_count": null,
   "metadata": {
    "colab": {},
    "colab_type": "code",
    "id": "BhVUH2xe2kfn"
   },
   "outputs": [],
   "source": [
    "\"\"\"\n",
    "Function (do not modify)\n",
    "\"\"\"\n",
    "def PoissonMixing(sourceImg, targetImg, mask, offsetX, offsetY):\n",
    "    \"\"\"\n",
    "    Wrapper function to put all steps together\n",
    "    Args:\n",
    "    - sourceImg, targetImg: source and target image\n",
    "    - mask: masked area in the source image\n",
    "    - offsetX, offsetY: offset of the mask in the target image\n",
    "    Returns:\n",
    "    - ResultImg: result image\n",
    "    \"\"\"\n",
    "    # step 1: index replacement pixels\n",
    "    indexes = getIndexes(mask, targetImg.shape[0], targetImg.shape[1], offsetX,\n",
    "                         offsetY)\n",
    "    # step 2: compute the Laplacian matrix A\n",
    "    A = getCoefficientMatrix(indexes)\n",
    "\n",
    "    # step 3: for each color channel, compute the solution vector b\n",
    "    red, green, blue = [\n",
    "        getSolutionVectMixing(indexes, sourceImg[:, :, i], targetImg[:, :, i],\n",
    "                        offsetX, offsetY).T for i in range(3)\n",
    "    ]\n",
    "\n",
    "    # step 4: solve for the equation Ax = b to get the new pixels in the replacement area\n",
    "    new_red, new_green, new_blue = [\n",
    "        solveEqu(A, channel)\n",
    "        for channel in [red, green, blue]\n",
    "    ]\n",
    "\n",
    "    # step 5: reconstruct the image with new color channel\n",
    "    resultImg = reconstructImg(indexes, new_red, new_green, new_blue,\n",
    "                               targetImg)\n",
    "    return resultImg"
   ]
  },
  {
   "cell_type": "code",
   "execution_count": null,
   "metadata": {
    "colab": {},
    "colab_type": "code",
    "id": "430w5mEx2-T9"
   },
   "outputs": [],
   "source": [
    "\"\"\"\n",
    "Script (do not modify)\n",
    "\"\"\"\n",
    "src_path = 'source_2.jpg'\n",
    "src = Image.open(src_path).convert('RGB')\n",
    "\n",
    "src = np.array(src, 'f') / 255\n",
    "target_path  ='target_2.jpg'\n",
    "target = Image.open(target_path).convert('RGB')\n",
    "target = np.array(target, 'f') / 255\n",
    "offsetX = 10\n",
    "offsetY = 130\n",
    "mask_path = 'mask_2.bmp'\n",
    "mask = Image.open(mask_path)\n",
    "mask =np.array(mask) > 0\n",
    "result = PoissonMixing(src, target, mask, offsetX, offsetY)\n",
    "plt.imshow(result)\n",
    "plt.show()\n",
    "mixed = Image.fromarray((np.clip(result, 0, 1) * 255).astype(np.uint8))\n",
    "mixed.save('mixed.png')\n",
    "files.download('mixed.png')"
   ]
  },
  {
   "cell_type": "code",
   "execution_count": null,
   "metadata": {
    "colab": {},
    "colab_type": "code",
    "id": "_1YBSn4t3LaV"
   },
   "outputs": [],
   "source": [
    "def getSolutionVectTexture(indexes, target, mask, edges):\n",
    "    \"\"\"\n",
    "    constructs the target solution vector(b in Ax=b) \n",
    "    \n",
    "    Args:\n",
    "    indexes:  targetH * targetW, indexes of replacement area\n",
    "    source, target: source and target image\n",
    "    offsetX, offsetY: offset of source image origin in the target image\n",
    "\n",
    "    Returns:\n",
    "    solution vector b (for single channel)\n",
    "    \"\"\"\n",
    "    # IMPLEMENT HERE\n",
    "    # almost the same as getSolutionVect, need to change the Laplacian part of b"
   ]
  },
  {
   "cell_type": "code",
   "execution_count": null,
   "metadata": {
    "colab": {},
    "colab_type": "code",
    "id": "z048nDtl3bQ-"
   },
   "outputs": [],
   "source": [
    "\"\"\"\n",
    "Function (do not modify)\n",
    "\"\"\"\n",
    "def PoissonTextureFlattening(targetImg, mask, edges):\n",
    "    \"\"\"\n",
    "    Wrapper function to put all steps together\n",
    "    Args:\n",
    "    - targetImg: target image\n",
    "    - mask: masked area in the source image\n",
    "    - offsetX, offsetY: offset of the mask in the target image\n",
    "    Returns:\n",
    "    - ResultImg: result image\n",
    "    \"\"\"\n",
    "    # step 1: index replacement pixels\n",
    "    indexes = getIndexes(mask, targetImg.shape[0], targetImg.shape[1])\n",
    "    # step 2: compute the Laplacian matrix A\n",
    "    A = getCoefficientMatrix(indexes)\n",
    "\n",
    "    # step 3: for each color channel, compute the solution vector b\n",
    "    red, green, blue = [\n",
    "        getSolutionVectTexture(indexes, targetImg[:, :, i], mask, edges).T for i in range(3)\n",
    "    ]\n",
    "\n",
    "    # step 4: solve for the equation Ax = b to get the new pixels in the replacement area\n",
    "    new_red, new_green, new_blue = [\n",
    "        solveEqu(A, channel)\n",
    "        for channel in [red, green, blue]\n",
    "    ]\n",
    "\n",
    "    # step 5: reconstruct the image with new color channel\n",
    "    resultImg = reconstructImg(indexes, new_red, new_green, new_blue,\n",
    "                               targetImg)\n",
    "    return resultImg"
   ]
  },
  {
   "cell_type": "code",
   "execution_count": null,
   "metadata": {
    "colab": {},
    "colab_type": "code",
    "id": "MXAjdRFy3cGl"
   },
   "outputs": [],
   "source": [
    "\"\"\"\n",
    "Script (do not modify)\n",
    "\"\"\"\n",
    "target_path  ='bean.jpg'\n",
    "target = np.array(Image.open(target_path).convert('RGB'), 'f') / 255\n",
    "from skimage.color import rgb2gray\n",
    "from skimage import feature\n",
    "edges = feature.canny(rgb2gray(target))\n",
    "plt.imshow(edges)\n",
    "plt.show()\n",
    "mask_path = 'mask_bean.bmp'\n",
    "mask = np.array(Image.open(mask_path)) > 0\n",
    "result = PoissonTextureFlattening(target, mask, edges)\n",
    "plt.imshow(result)\n",
    "plt.show()\n",
    "flatten = Image.fromarray((np.clip(result, 0, 1) * 255).astype(np.uint8))\n",
    "flatten.save('flatten.png')\n",
    "files.download('flatten.png')"
   ]
  }
 ],
 "metadata": {
  "colab": {
   "collapsed_sections": [],
   "name": "learner_template.ipynb",
   "provenance": []
  },
  "kernelspec": {
   "display_name": "Python 3 (ipykernel)",
   "language": "python",
   "name": "python3"
  },
  "language_info": {
   "codemirror_mode": {
    "name": "ipython",
    "version": 3
   },
   "file_extension": ".py",
   "mimetype": "text/x-python",
   "name": "python",
   "nbconvert_exporter": "python",
   "pygments_lexer": "ipython3",
   "version": "3.8.11"
  }
 },
 "nbformat": 4,
 "nbformat_minor": 4
}

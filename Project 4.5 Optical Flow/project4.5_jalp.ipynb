{
 "cells": [
  {
   "cell_type": "code",
   "execution_count": 3,
   "id": "7b6e50d3-c967-492d-95b0-153518d158db",
   "metadata": {
    "execution": {
     "iopub.execute_input": "2021-10-21T21:41:03.276040Z",
     "iopub.status.busy": "2021-10-21T21:41:03.275689Z",
     "iopub.status.idle": "2021-10-21T21:41:04.014637Z",
     "shell.execute_reply": "2021-10-21T21:41:04.014168Z",
     "shell.execute_reply.started": "2021-10-21T21:41:03.276012Z"
    },
    "tags": []
   },
   "outputs": [],
   "source": [
    "import helpers\n",
    "# import optical_flow\n",
    "\n",
    "import numpy as np\n",
    "import cv2\n",
    "import scipy.signal\n",
    "from PIL import Image\n",
    "from skimage import transform as tf\n",
    "import matplotlib.pyplot as plt\n",
    "from helpers import *"
   ]
  },
  {
   "cell_type": "code",
   "execution_count": 15,
   "id": "07ada28c-73c5-40f4-8f57-94139f21a0b5",
   "metadata": {
    "execution": {
     "iopub.execute_input": "2021-10-21T20:13:56.190941Z",
     "iopub.status.busy": "2021-10-21T20:13:56.190653Z",
     "iopub.status.idle": "2021-10-21T20:13:56.214129Z",
     "shell.execute_reply": "2021-10-21T20:13:56.212362Z",
     "shell.execute_reply.started": "2021-10-21T20:13:56.190918Z"
    },
    "tags": []
   },
   "outputs": [],
   "source": [
    "import numpy as np\n",
    "import cv2\n",
    "import scipy.signal\n",
    "from PIL import Image\n",
    "from skimage import transform as tf\n",
    "\n",
    "from helpers import *\n",
    "\n",
    "\n",
    "def getFeatures(img,bbox):\n",
    "    \"\"\"\n",
    "    Description: Identify feature points within bounding box for each object\n",
    "    Input:\n",
    "        img: Grayscale input image, (H, W)\n",
    "        bbox: Top-left and bottom-right corners of all bounding boxes, (F, 2, 2)\n",
    "    Output:\n",
    "        features: Coordinates of all feature points in first frame, (F, N, 2)\n",
    "    Instruction: Please feel free to use cv2.goodFeaturesToTrack() or cv.cornerHarris()\n",
    "    \"\"\"\n",
    "    num_boxes = bbox.shape[0] # number of bounding boxes\n",
    "    num_corners = 10 # number of points to track\n",
    "    quality_level = 0.1\n",
    "    dist_threshold = 5\n",
    "\n",
    "    curr = []\n",
    "    curr_features = []\n",
    "    for b in range(num_boxes):\n",
    "        # Get the rectangle dimensions\n",
    "        tl_x = int(bbox[b][0][0])\n",
    "        tl_y = int(bbox[b][0][1])\n",
    "        br_x = int(bbox[b][1][0])\n",
    "        br_y = int(bbox[b][1][1])\n",
    "\n",
    "        # Get the cropped image\n",
    "        cropped_img = img[tl_y:br_y,tl_x:br_x]\n",
    "\n",
    "        # Validation\n",
    "        # print(\"Rectangle coords\", tl_x, tl_y, br_x, br_y)\n",
    "        # print(\"Image Dims: \", img.shape)\n",
    "        # print(\"Cropped Image Dims: \", cropped_img.shape)\n",
    "\n",
    "        # Get the features\n",
    "        points = cv2.goodFeaturesToTrack(cropped_img, num_corners, quality_level, dist_threshold)\n",
    "\n",
    "        # Get the list of x,y coords\n",
    "        for i in points:\n",
    "            x, y = i.ravel()\n",
    "            x = x + tl_x\n",
    "            y = y + tl_y\n",
    "            curr.append([x, y])\n",
    "            # print(x,y)\n",
    "\n",
    "        # Add the current bounding box's features to the final list\n",
    "        curr_features.append(np.stack(curr))\n",
    "\n",
    "    # Stack all the features\n",
    "    features = np.stack(curr_features)\n",
    "\n",
    "    # Validation\n",
    "    # print(\"Shape of features:\", features.shape)\n",
    "\n",
    "    # Return the features\n",
    "    return features\n",
    "\n",
    "\n",
    "def estimateFeatureTranslation(feature, Ix, Iy, img1, img2):\n",
    "    \"\"\"\n",
    "    Description: Get corresponding point for one feature point\n",
    "    Input:\n",
    "        feature: Coordinate of feature point in first frame, (2,)\n",
    "        Ix: Gradient along the x direction, (H,W)\n",
    "        Iy: Gradient along the y direction, (H,W)\n",
    "        img1: First image frame, (H,W,3)\n",
    "        img2: Second image frame, (H,W,3)\n",
    "    Output:\n",
    "        new_feature: Coordinate of feature point in second frame, (2,)\n",
    "    Instruction: Please feel free to use interp2() and getWinBound() from helpers\n",
    "    \"\"\"\n",
    "\n",
    "    img1_p = img1\n",
    "    img2_p = img2\n",
    "    dx_sum = 0\n",
    "    dy_sum = 0\n",
    "    # for i in range(20): #TBD: Only 1 iteration according to the Piazza post\n",
    "    # Compute the difference between 2 images\n",
    "    # print(type(feature))\n",
    "    # print(feature)\n",
    "    # img1_q = []\n",
    "    # img2_q = []\n",
    "    # for f in feature:\n",
    "    #     img1_q.append(img1_p[int(f[1])][int(f[0])])\n",
    "    #     img2_q.append(img2_p[int(f[1])][int(f[0])])\n",
    "    #\n",
    "    # img1_p = np.stack(img1_q)\n",
    "    # img2_p = np.stack(img2_q)\n",
    "\n",
    "    It = img2_p - img1_p\n",
    "\n",
    "    # Compute the 2D matrix\n",
    "    A = np.hstack((Ix.reshape(-1, 1), Iy.reshape(-1, 1)))\n",
    "    b = -It.reshape(-1,1)\n",
    "\n",
    "    # Solve the linear equation\n",
    "    res = np.linalg.solve(A.T @ A, A.T @ b)\n",
    "    dx = res[0,0]\n",
    "    dy = res[1,0]\n",
    "\n",
    "    # Total translation\n",
    "    dx_sum += dx\n",
    "    dy_sum += dy\n",
    "\n",
    "    # if(dx_sum < 0):\n",
    "    #     dx_sum = dx_sum * -1\n",
    "    # if (dy_sum < 0):\n",
    "    #     dy_sum = dy_sum * -1\n",
    "\n",
    "    print(dx_sum, dy_sum)\n",
    "\n",
    "    # Get the new image\n",
    "    x, y = np.meshgrid(np.arange(img2_p.shape[1]), np.arange(img2_p.shape[0]))\n",
    "    new_x, new_y = x + dx_sum, y + dy_sum\n",
    "    new_feature = feature + [dx_sum, dy_sum]\n",
    "    img1_p = img2_p\n",
    "    img2_p = interp2(img2_p, new_x, new_y)\n",
    "\n",
    "\n",
    "    #Validation\n",
    "    # print(new_feature.shape)\n",
    "    # print(feature, new_feature)\n",
    "\n",
    "    return new_feature\n",
    "\n",
    "\n",
    "def estimateAllTranslation(features, img1, img2):\n",
    "    \"\"\"\n",
    "    Description: Get corresponding points for all feature points\n",
    "    Input:\n",
    "        features: Coordinates of all feature points in first frame, (F, N, 2)\n",
    "        img1: First image frame, (H,W,3)\n",
    "        img2: Second image frame, (H,W,3)\n",
    "    Output:\n",
    "        new_features: Coordinates of all feature points in second frame, (F, N, 2)\n",
    "    \"\"\"\n",
    "    print(\"***Estimating all translations***\")\n",
    "    # Init\n",
    "    curr_features = []\n",
    "\n",
    "    # Find gradient\n",
    "    ksize = 10\n",
    "    sigma = 1\n",
    "    G = cv2.getGaussianKernel(ksize, sigma)\n",
    "    G = G @ G.T\n",
    "    fx = np.array([[1, -1]])\n",
    "    fy = fx.T\n",
    "    Gx = scipy.signal.convolve2d(G, fx, 'same', 'symm')[:, 1:]\n",
    "    Gy = scipy.signal.convolve2d(G, fy, 'same', 'symm')[1:, :]\n",
    "    Ix = scipy.signal.convolve2d(img2, Gx, 'same', 'symm')\n",
    "    Iy = scipy.signal.convolve2d(img2, Gy, 'same', 'symm')\n",
    "\n",
    "    # Validation\n",
    "    # print(\"img1\", img1.shape)\n",
    "    # print(\"img2\", img2.shape)\n",
    "    # print(\"Ix\", Ix.shape)\n",
    "    # print(\"Iy\", Iy.shape)\n",
    "\n",
    "    # Traverse for every feature\n",
    "    # print(\"Curr Features: \", features.shape)\n",
    "    for f in features:\n",
    "        new_f = estimateFeatureTranslation(f, Ix, Iy, img1, img2)\n",
    "        curr_features.append(new_f)\n",
    "    new_features = np.stack(curr_features)\n",
    "\n",
    "    # Validation\n",
    "    # print(\"New features: \", new_features.shape)\n",
    "    return new_features\n",
    "\n",
    "\n",
    "def applyGeometricTransformation(features, new_features, bbox):\n",
    "    \"\"\"\n",
    "    Description: Transform bounding box corners onto new image frame\n",
    "    Input:\n",
    "        features: Coordinates of all feature points in first frame, (F, N, 2)\n",
    "        new_features: Coordinates of all feature points in second frame, (F, N, 2)\n",
    "        bbox: Top-left and bottom-right corners of all bounding boxes, (F, 2, 2)\n",
    "    Output:\n",
    "        features: Coordinates of all feature points in first frame after eliminating outliers, (F, N1, 2)\n",
    "        bbox: Top-left and bottom-right corners of all bounding boxes, (F, 2, 2)\n",
    "    Instruction: Please feel free to use skimage.transform.estimate_transform()\n",
    "    \"\"\"\n",
    "\n",
    "    # Calculate the H matrix using features and new_features (similarity transform?)\n",
    "    # print(features.shape)\n",
    "    # print(new_features.shape) TBD: done for 1 feature only\n",
    "    # transform_matrices = []\n",
    "    # for i in range(len(features)):\n",
    "    #     transform_matrices.append(tf.estimate_transform('similarity', features[i], new_features[i]))\n",
    "    # transform_matrices = np.stack(transform_matrices)\n",
    "    # transform_matrix = np.average(transform_matrices, axis=0)\n",
    "    # index = int(np.random.rand((len(features))))\n",
    "    # transform_matrix = tf.estimate_transform('similarity', features[index], new_features[index])\n",
    "\n",
    "    # # Use the symmetric transformation to find where the new bounding box will be\n",
    "    # # print(bbox.shape)\n",
    "    # new_bbox = []\n",
    "    # for b in bbox:\n",
    "    #     new_b = transform_matrix(b)\n",
    "    #     new_bbox.append(new_b)\n",
    "    # new_bbox = np.stack(new_bbox)\n",
    "\n",
    "    new_bbox = []\n",
    "    for i in range(len(features)):\n",
    "        transform_matrix = tf.estimate_transform('similarity', features[i], new_features[i])\n",
    "        new_b = transform_matrix(bbox[i])\n",
    "        new_bbox.append(new_b)\n",
    "    new_bbox = np.stack(new_bbox)\n",
    "\n",
    "    # Filter invalid feature points\n",
    "    # Eliminate the features that move too much\n",
    "    curr_features = []\n",
    "    for i in range(features.shape[0]):\n",
    "        f1 = features[i]\n",
    "        f2 = new_features[i]\n",
    "        diff = f1 - f2\n",
    "        # print(diff.shape)\n",
    "        val = np.sum(diff[0]**2 + diff[1]**2)\n",
    "        if val < 6:\n",
    "            curr_features.append(f2)\n",
    "    new_features = np.stack(curr_features)\n",
    "\n",
    "    # Eliminate the features outside bbox\n",
    "    curr_features = []\n",
    "    for f in new_features:\n",
    "        keep = True\n",
    "        for c in f:\n",
    "            for b in new_bbox:\n",
    "                tl_x = int(b[0][0])\n",
    "                tl_y = int(b[0][1])\n",
    "                br_x = int(b[1][0])\n",
    "                br_y = int(b[1][1])\n",
    "                if not (tl_x <= c[0] <= br_x and tl_y <= c[1] <= br_y):\n",
    "                    keep = False\n",
    "                    break\n",
    "        if keep:\n",
    "            curr_features.append(f)\n",
    "    new_features = np.stack(curr_features)\n",
    "\n",
    "\n",
    "    return new_features, new_bbox\n",
    "\n",
    "\n",
    "\n"
   ]
  },
  {
   "cell_type": "code",
   "execution_count": 14,
   "id": "0cb896b5-d1a2-4f95-a057-bb833a028b06",
   "metadata": {
    "execution": {
     "iopub.execute_input": "2021-10-21T20:13:54.296460Z",
     "iopub.status.busy": "2021-10-21T20:13:54.296159Z",
     "iopub.status.idle": "2021-10-21T20:13:54.342343Z",
     "shell.execute_reply": "2021-10-21T20:13:54.341708Z",
     "shell.execute_reply.started": "2021-10-21T20:13:54.296436Z"
    },
    "tags": []
   },
   "outputs": [],
   "source": [
    "import cv2\n",
    "import numpy as np\n",
    "import matplotlib.pyplot as plt\n",
    "import imageio\n",
    "from skimage import img_as_ubyte\n",
    "import os\n",
    "\n",
    "from optical_flow import *\n",
    "\n",
    "def objectTracking(rawVideo):\n",
    "    \"\"\"\n",
    "    Description: Generate and save tracking video\n",
    "    Input:\n",
    "        rawVideo: Raw video file name, String\n",
    "    Instruction: Please feel free to use cv.selectROI() to manually select bounding box\n",
    "    \"\"\"\n",
    "    cap = cv2.VideoCapture(rawVideo)\n",
    "    imgs = []\n",
    "    frame_cnt = 0 \n",
    "\n",
    "    # Initialize video writer for tracking video\n",
    "    trackVideo = 'results/Output_' + rawVideo\n",
    "    fourcc = cv2.VideoWriter_fourcc(*'XVID')\n",
    "    fps = cap.get(cv2.CAP_PROP_FPS)\n",
    "    size = (int(cap.get(cv2.CAP_PROP_FRAME_WIDTH)), int(cap.get(cv2.CAP_PROP_FRAME_HEIGHT)))\n",
    "    writer = cv2.VideoWriter(trackVideo, fourcc, fps, size)\n",
    "    \n",
    "    # Define how many objects to track\n",
    "    F = 1\n",
    "                  \n",
    "    while (cap.isOpened()):\n",
    "        ret, frame = cap.read()\n",
    "        if not ret: continue\n",
    "        vis = frame.copy()\n",
    "        frame = cv2.cvtColor(frame, cv2.COLOR_BGR2GRAY).astype(np.float32) / 255\n",
    "        frame_cnt += 1\n",
    "\n",
    "        print(frame_cnt)\n",
    "        if frame_cnt == 1:\n",
    "            bbox = np.zeros((F,2,2))\n",
    "            \n",
    "            # Manually select objects on the first frame\n",
    "            for f in range(F):\n",
    "                x,y,w,h = np.int32(cv2.selectROI(\"roi\", vis, fromCenter=False))\n",
    "                cv2.destroyAllWindows()\n",
    "                bbox[f] = np.array([(x,y), (x+w, y+h)])\n",
    "                \n",
    "            features = getFeatures(frame, bbox)\n",
    "            # print(\"First set of features gotten\", features.shape)\n",
    "            frame_old = frame.copy()\n",
    "\n",
    "        else:\n",
    "            # print(\"Sending features out\", features.shape)\n",
    "            features = getFeatures(frame, bbox)\n",
    "            new_features = estimateAllTranslation(features, frame_old, frame)\n",
    "            features, bbox = applyGeometricTransformation(features, new_features, bbox)\n",
    "            frame_old = frame.copy()\n",
    "            \n",
    "        # # display the bbox\n",
    "        for f in range(F):\n",
    "            cv2.rectangle(vis, tuple(bbox[f,0].astype(np.int32)), tuple(bbox[f,1].astype(np.int32)), (0,0,255), thickness=2)\n",
    "        \n",
    "        # display feature points\n",
    "        for f in range(F):\n",
    "            for feature in features[f]:\n",
    "                cv2.circle(vis, tuple(feature.astype(np.int32)), 2, (0,255,0), thickness=-1)\n",
    "        \n",
    "        # save to list\n",
    "        imgs.append(img_as_ubyte(vis))\n",
    "        \n",
    "        # save image\n",
    "        if (frame_cnt + 1) % 10 == 0:\n",
    "            cv2.imwrite('results/{}.jpg'.format(frame_cnt), img_as_ubyte(vis))\n",
    "\n",
    "        # Save video with bbox and all feature points\n",
    "        writer.write(vis)\n",
    "        \n",
    "        # Press 'q' on the keyboard to exit\n",
    "        cv2.imshow('Track Video', vis)\n",
    "        if cv2.waitKey(30) & 0xff == ord('q'): break\n",
    "        \n",
    "        \n",
    "    # Release video reader and video writer\n",
    "    cv2.destroyAllWindows()\n",
    "    cap.release()\n",
    "    writer.release()\n",
    "    \n",
    "    return"
   ]
  },
  {
   "cell_type": "code",
   "execution_count": null,
   "id": "1417c180-60a7-4d91-b085-14fdbe40f38c",
   "metadata": {
    "execution": {
     "iopub.status.busy": "2021-10-21T01:12:28.519328Z",
     "iopub.status.idle": "2021-10-21T01:12:28.519587Z",
     "shell.execute_reply": "2021-10-21T01:12:28.519447Z",
     "shell.execute_reply.started": "2021-10-21T01:12:28.519434Z"
    },
    "tags": []
   },
   "outputs": [],
   "source": [
    "rawVideo = \"Easy.mp4\"\n",
    "if not os.path.exists(\"results\"): os.mkdir(\"results\")\n",
    "objectTracking(rawVideo)"
   ]
  },
  {
   "cell_type": "markdown",
   "id": "24c14575-3450-4904-96c5-2bf8db78786e",
   "metadata": {},
   "source": [
    "## Feature detection in single frame"
   ]
  },
  {
   "cell_type": "code",
   "execution_count": 46,
   "id": "c2e6a00a-5e38-46e0-8d44-f00f6eef8f37",
   "metadata": {
    "execution": {
     "iopub.execute_input": "2021-10-21T22:50:53.028163Z",
     "iopub.status.busy": "2021-10-21T22:50:53.027925Z",
     "iopub.status.idle": "2021-10-21T22:50:53.288763Z",
     "shell.execute_reply": "2021-10-21T22:50:53.288205Z",
     "shell.execute_reply.started": "2021-10-21T22:50:53.028141Z"
    },
    "tags": []
   },
   "outputs": [
    {
     "data": {
      "text/plain": [
       "<matplotlib.image.AxesImage at 0x7fdb38598220>"
      ]
     },
     "execution_count": 46,
     "metadata": {},
     "output_type": "execute_result"
    },
    {
     "data": {
      "image/png": "[encoded data removed]",
      "text/plain": [
       "<Figure size 432x288 with 1 Axes>"
      ]
     },
     "metadata": {
      "needs_background": "light"
     },
     "output_type": "display_data"
    }
   ],
   "source": [
    "frame1= cv2.imread(\"./results/859.jpg\")\n",
    "frame2 = cv2.imread(\"./results/869.jpg\")\n",
    "plt.imshow(frame1)"
   ]
  },
  {
   "cell_type": "code",
   "execution_count": 6,
   "id": "487070b5-814e-4a19-b9e6-2167c77d9ac8",
   "metadata": {
    "execution": {
     "iopub.execute_input": "2021-10-21T20:09:29.041560Z",
     "iopub.status.busy": "2021-10-21T20:09:29.041360Z",
     "iopub.status.idle": "2021-10-21T20:09:34.043252Z",
     "shell.execute_reply": "2021-10-21T20:09:34.042425Z",
     "shell.execute_reply.started": "2021-10-21T20:09:29.041539Z"
    },
    "tags": []
   },
   "outputs": [],
   "source": [
    "bbox = np.zeros((1,2,2))\n",
    "x,y,w,h = np.int32(cv2.selectROI(\"roi\", frame1, fromCenter=False))\n",
    "cv2.destroyAllWindows()\n",
    "bbox[0] = np.array([(x,y), (x+w, y+h)])"
   ]
  },
  {
   "cell_type": "code",
   "execution_count": 7,
   "id": "bdb25b3f-0caf-477c-8cd1-76c8c476d1ec",
   "metadata": {
    "execution": {
     "iopub.execute_input": "2021-10-21T20:09:37.196891Z",
     "iopub.status.busy": "2021-10-21T20:09:37.196647Z",
     "iopub.status.idle": "2021-10-21T20:09:37.202087Z",
     "shell.execute_reply": "2021-10-21T20:09:37.201234Z",
     "shell.execute_reply.started": "2021-10-21T20:09:37.196867Z"
    },
    "tags": []
   },
   "outputs": [
    {
     "data": {
      "text/plain": [
       "array([[[193., 122.],\n",
       "        [309., 233.]]])"
      ]
     },
     "execution_count": 7,
     "metadata": {},
     "output_type": "execute_result"
    }
   ],
   "source": [
    "bbox"
   ]
  },
  {
   "cell_type": "code",
   "execution_count": 45,
   "id": "58d56668-6591-41c3-bdf5-66be9ea7e2a2",
   "metadata": {
    "execution": {
     "iopub.execute_input": "2021-10-21T22:50:47.534080Z",
     "iopub.status.busy": "2021-10-21T22:50:47.533836Z",
     "iopub.status.idle": "2021-10-21T22:50:47.552687Z",
     "shell.execute_reply": "2021-10-21T22:50:47.551651Z",
     "shell.execute_reply.started": "2021-10-21T22:50:47.534041Z"
    },
    "tags": []
   },
   "outputs": [
    {
     "ename": "NameError",
     "evalue": "name 'frame1' is not defined",
     "output_type": "error",
     "traceback": [
      "\u001b[0;31m---------------------------------------------------------------------------\u001b[0m",
      "\u001b[0;31mNameError\u001b[0m                                 Traceback (most recent call last)",
      "\u001b[0;32m/var/folders/tm/28r5l8fx5zq3fcw2f_20377w0000gn/T/ipykernel_64240/1564651362.py\u001b[0m in \u001b[0;36m<module>\u001b[0;34m\u001b[0m\n\u001b[1;32m      3\u001b[0m \u001b[0mf\u001b[0m\u001b[0;34m=\u001b[0m\u001b[0;36m0\u001b[0m\u001b[0;34m\u001b[0m\u001b[0;34m\u001b[0m\u001b[0m\n\u001b[1;32m      4\u001b[0m \u001b[0mframe_cnt\u001b[0m \u001b[0;34m=\u001b[0m \u001b[0;36m0\u001b[0m\u001b[0;34m\u001b[0m\u001b[0;34m\u001b[0m\u001b[0m\n\u001b[0;32m----> 5\u001b[0;31m \u001b[0mframe\u001b[0m \u001b[0;34m=\u001b[0m \u001b[0mframe1\u001b[0m\u001b[0;34m\u001b[0m\u001b[0;34m\u001b[0m\u001b[0m\n\u001b[0m\u001b[1;32m      6\u001b[0m \u001b[0mvis\u001b[0m \u001b[0;34m=\u001b[0m \u001b[0mframe\u001b[0m\u001b[0;34m.\u001b[0m\u001b[0mcopy\u001b[0m\u001b[0;34m(\u001b[0m\u001b[0;34m)\u001b[0m\u001b[0;34m\u001b[0m\u001b[0;34m\u001b[0m\u001b[0m\n\u001b[1;32m      7\u001b[0m \u001b[0mframe\u001b[0m \u001b[0;34m=\u001b[0m \u001b[0mcv2\u001b[0m\u001b[0;34m.\u001b[0m\u001b[0mcvtColor\u001b[0m\u001b[0;34m(\u001b[0m\u001b[0mframe\u001b[0m\u001b[0;34m,\u001b[0m \u001b[0mcv2\u001b[0m\u001b[0;34m.\u001b[0m\u001b[0mCOLOR_BGR2GRAY\u001b[0m\u001b[0;34m)\u001b[0m\u001b[0;34m.\u001b[0m\u001b[0mastype\u001b[0m\u001b[0;34m(\u001b[0m\u001b[0mnp\u001b[0m\u001b[0;34m.\u001b[0m\u001b[0mfloat32\u001b[0m\u001b[0;34m)\u001b[0m \u001b[0;34m/\u001b[0m \u001b[0;36m255\u001b[0m\u001b[0;34m\u001b[0m\u001b[0;34m\u001b[0m\u001b[0m\n",
      "\u001b[0;31mNameError\u001b[0m: name 'frame1' is not defined"
     ]
    }
   ],
   "source": [
    "# Define how many objects to track\n",
    "F = 1\n",
    "f=0\n",
    "frame_cnt = 0 \n",
    "frame = frame1\n",
    "vis = frame.copy()\n",
    "frame = cv2.cvtColor(frame, cv2.COLOR_BGR2GRAY).astype(np.float32) / 255\n",
    "frame_cnt += 1\n",
    "\n",
    "print(frame_cnt)\n",
    "if frame_cnt == 1:\n",
    "    bbox = np.zeros((F,2,2))\n",
    "\n",
    "    # Manually select objects on the first frame\n",
    "    for f in range(F):\n",
    "        x,y,w,h = np.int32(cv2.selectROI(\"roi\", vis, fromCenter=False))\n",
    "        cv2.destroyAllWindows()\n",
    "        bbox[f] = np.array([(x,y), (x+w, y+h)])\n",
    "\n",
    "    features = getFeatures(frame, bbox)\n",
    "    # print(\"First set of features gotten\", features.shape)\n",
    "    frame_old = frame.copy()\n",
    "\n",
    "else:\n",
    "    # print(\"Sending features out\", features.shape)\n",
    "    features = getFeatures(frame, bbox)\n",
    "    new_features = estimateAllTranslation(features, frame_old, frame)\n",
    "    features, bbox = applyGeometricTransformation(features, new_features, bbox)\n",
    "    frame_old = frame.copy()\n",
    "\n",
    "# # display the bbox\n",
    "for f in range(F):\n",
    "    print(\"l33\")\n",
    "    cv2.rectangle(vis, tuple(bbox[f,0].astype(np.int32)), tuple(bbox[f,1].astype(np.int32)), (0,0,255), thickness=2)\n",
    "\n",
    "# display feature points\n",
    "for f in range(F):\n",
    "    for feature in features[f]:\n",
    "        cv2.circle(vis, tuple(feature.astype(np.int32)), 2, (0,255,0), thickness=-1)\n",
    "        \n",
    "        \n",
    "# Press 'q' on the keyboard to exit\n",
    "cv2.imshow('Track Video', vis)\n",
    "# if cv2.waitKey(30) & 0xff == ord('q'): break        \n",
    "\n",
    "# Release video reader and video writer\n",
    "cv2.destroyAllWindows()"
   ]
  },
  {
   "cell_type": "code",
   "execution_count": 25,
   "id": "59b78540-c545-4527-9848-34d0e9f65e9d",
   "metadata": {
    "execution": {
     "iopub.execute_input": "2021-10-21T20:18:27.955925Z",
     "iopub.status.busy": "2021-10-21T20:18:27.955682Z",
     "iopub.status.idle": "2021-10-21T20:18:27.959214Z",
     "shell.execute_reply": "2021-10-21T20:18:27.958506Z",
     "shell.execute_reply.started": "2021-10-21T20:18:27.955898Z"
    },
    "tags": []
   },
   "outputs": [],
   "source": [
    "cv2.imshow('Track Video', vis)"
   ]
  },
  {
   "cell_type": "code",
   "execution_count": 22,
   "id": "29acfcd8-cd09-416c-90b6-69fb28e3a993",
   "metadata": {
    "execution": {
     "iopub.execute_input": "2021-10-21T20:16:13.471567Z",
     "iopub.status.busy": "2021-10-21T20:16:13.471299Z",
     "iopub.status.idle": "2021-10-21T20:16:13.475986Z",
     "shell.execute_reply": "2021-10-21T20:16:13.475563Z",
     "shell.execute_reply.started": "2021-10-21T20:16:13.471511Z"
    }
   },
   "outputs": [
    {
     "data": {
      "text/plain": [
       "array([[[122, 111,  91],\n",
       "        [122, 111,  91],\n",
       "        [122, 108,  90],\n",
       "        ...,\n",
       "        [120, 106,  88],\n",
       "        [120, 106,  88],\n",
       "        [120, 106,  88]],\n",
       "\n",
       "       [[122, 111,  91],\n",
       "        [122, 111,  91],\n",
       "        [122, 108,  90],\n",
       "        ...,\n",
       "        [120, 106,  88],\n",
       "        [120, 106,  88],\n",
       "        [120, 106,  88]],\n",
       "\n",
       "       [[122, 111,  91],\n",
       "        [122, 111,  91],\n",
       "        [122, 108,  90],\n",
       "        ...,\n",
       "        [120, 106,  88],\n",
       "        [120, 106,  88],\n",
       "        [120, 106,  88]],\n",
       "\n",
       "       ...,\n",
       "\n",
       "       [[109, 103,  98],\n",
       "        [109, 103,  98],\n",
       "        [109, 105, 100],\n",
       "        ...,\n",
       "        [113, 116, 121],\n",
       "        [113, 116, 121],\n",
       "        [113, 116, 121]],\n",
       "\n",
       "       [[105, 101,  96],\n",
       "        [107, 103,  98],\n",
       "        [109, 104, 101],\n",
       "        ...,\n",
       "        [112, 115, 120],\n",
       "        [112, 115, 120],\n",
       "        [112, 115, 120]],\n",
       "\n",
       "       [[110, 106, 101],\n",
       "        [112, 108, 103],\n",
       "        [112, 107, 104],\n",
       "        ...,\n",
       "        [111, 114, 119],\n",
       "        [111, 114, 119],\n",
       "        [111, 114, 119]]], dtype=uint8)"
      ]
     },
     "execution_count": 22,
     "metadata": {},
     "output_type": "execute_result"
    }
   ],
   "source": [
    "cv2.rectangle(vis, tuple(bbox[f,0].astype(np.int32)), tuple(bbox[f,1].astype(np.int32)), (0,0,255), thickness=2)"
   ]
  },
  {
   "cell_type": "code",
   "execution_count": 38,
   "id": "0f891fe2-3fa1-4dd9-a036-e271ef0634a6",
   "metadata": {
    "execution": {
     "iopub.execute_input": "2021-10-21T22:20:51.190631Z",
     "iopub.status.busy": "2021-10-21T22:20:51.190435Z",
     "iopub.status.idle": "2021-10-21T22:20:51.195037Z",
     "shell.execute_reply": "2021-10-21T22:20:51.194384Z",
     "shell.execute_reply.started": "2021-10-21T22:20:51.190611Z"
    },
    "tags": []
   },
   "outputs": [],
   "source": [
    "\n",
    "a = np.stack([[[308.,212.],\n",
    "#                [382.,243.],\n",
    "#                [307.,207.],\n",
    "#                [313.,242.],\n",
    "               [384.,212.]]])\n",
    "b = np.asarray([[[308.00258138,212.00093672],\n",
    "#                  [382.00258138,243.00093672],\n",
    "#                  [307.00258138,207.00093672],\n",
    "#                  [313.00258138,242.00093672],\n",
    "                 [384.00258138,212.00093672]]])"
   ]
  },
  {
   "cell_type": "code",
   "execution_count": 39,
   "id": "1c36f554-8fd0-4042-97e1-170d6d80ed2a",
   "metadata": {
    "execution": {
     "iopub.execute_input": "2021-10-21T22:20:52.204787Z",
     "iopub.status.busy": "2021-10-21T22:20:52.204543Z",
     "iopub.status.idle": "2021-10-21T22:20:52.212260Z",
     "shell.execute_reply": "2021-10-21T22:20:52.211244Z",
     "shell.execute_reply.started": "2021-10-21T22:20:52.204761Z"
    },
    "tags": []
   },
   "outputs": [
    {
     "name": "stdout",
     "output_type": "stream",
     "text": [
      "<SimilarityTransform(matrix=\n",
      "    [[1.00000e+00, 0.00000e+00, 2.58138e-03],\n",
      "     [0.00000e+00, 1.00000e+00, 9.36720e-04],\n",
      "     [0.00000e+00, 0.00000e+00, 1.00000e+00]])>\n"
     ]
    }
   ],
   "source": [
    "transform_matrix = tf.estimate_transform('similarity', a[0], b[0])\n",
    "print(transform_matrix)"
   ]
  },
  {
   "cell_type": "code",
   "execution_count": 37,
   "id": "79233240-ff9f-4653-9beb-bc0240368756",
   "metadata": {
    "execution": {
     "iopub.execute_input": "2021-10-21T22:11:14.314786Z",
     "iopub.status.busy": "2021-10-21T22:11:14.314545Z",
     "iopub.status.idle": "2021-10-21T22:11:14.318714Z",
     "shell.execute_reply": "2021-10-21T22:11:14.318156Z",
     "shell.execute_reply.started": "2021-10-21T22:11:14.314762Z"
    },
    "tags": []
   },
   "outputs": [
    {
     "data": {
      "text/plain": [
       "(1, 5, 2)"
      ]
     },
     "execution_count": 37,
     "metadata": {},
     "output_type": "execute_result"
    }
   ],
   "source": [
    "a.shape"
   ]
  },
  {
   "cell_type": "code",
   "execution_count": 40,
   "id": "5aefcac0-7338-4883-959c-756d04fbc694",
   "metadata": {
    "execution": {
     "iopub.execute_input": "2021-10-21T22:49:46.424222Z",
     "iopub.status.busy": "2021-10-21T22:49:46.423959Z",
     "iopub.status.idle": "2021-10-21T22:49:46.427720Z",
     "shell.execute_reply": "2021-10-21T22:49:46.427045Z",
     "shell.execute_reply.started": "2021-10-21T22:49:46.424194Z"
    }
   },
   "outputs": [],
   "source": [
    "a = np.asarray([[360,640]])"
   ]
  },
  {
   "cell_type": "code",
   "execution_count": 49,
   "id": "1acb7e98-e390-42e8-9f81-c2d9b0ead8ba",
   "metadata": {
    "execution": {
     "iopub.execute_input": "2021-10-21T22:51:18.076718Z",
     "iopub.status.busy": "2021-10-21T22:51:18.076480Z",
     "iopub.status.idle": "2021-10-21T22:51:18.081448Z",
     "shell.execute_reply": "2021-10-21T22:51:18.080756Z",
     "shell.execute_reply.started": "2021-10-21T22:51:18.076695Z"
    },
    "tags": []
   },
   "outputs": [
    {
     "data": {
      "text/plain": [
       "(360, 640)"
      ]
     },
     "execution_count": 49,
     "metadata": {},
     "output_type": "execute_result"
    }
   ],
   "source": [
    "frame1.shape[0:2]"
   ]
  },
  {
   "cell_type": "code",
   "execution_count": 57,
   "id": "d1e4845b-3149-4319-a7d3-200a8468bf2d",
   "metadata": {
    "execution": {
     "iopub.execute_input": "2021-10-21T22:54:07.082486Z",
     "iopub.status.busy": "2021-10-21T22:54:07.082271Z",
     "iopub.status.idle": "2021-10-21T22:54:07.086974Z",
     "shell.execute_reply": "2021-10-21T22:54:07.086247Z",
     "shell.execute_reply.started": "2021-10-21T22:54:07.082464Z"
    },
    "tags": []
   },
   "outputs": [
    {
     "data": {
      "text/plain": [
       "array([306, 311, 210, 215])"
      ]
     },
     "execution_count": 57,
     "metadata": {},
     "output_type": "execute_result"
    }
   ],
   "source": [
    "a = np.asarray(getWinBound(frame1.shape[0:2], 308,212, 5))\n",
    "a"
   ]
  },
  {
   "cell_type": "code",
   "execution_count": 59,
   "id": "528b872e-ad05-43a8-a075-2fe2212b7fea",
   "metadata": {
    "execution": {
     "iopub.execute_input": "2021-10-21T22:54:37.669562Z",
     "iopub.status.busy": "2021-10-21T22:54:37.669329Z",
     "iopub.status.idle": "2021-10-21T22:54:37.672826Z",
     "shell.execute_reply": "2021-10-21T22:54:37.672151Z",
     "shell.execute_reply.started": "2021-10-21T22:54:37.669538Z"
    },
    "tags": []
   },
   "outputs": [],
   "source": [
    "x = frame1[a[2]:a[3],a[0]:a[1]]"
   ]
  },
  {
   "cell_type": "code",
   "execution_count": 60,
   "id": "1cbfde0a-e133-42ab-b8e9-005416f9a6e9",
   "metadata": {
    "execution": {
     "iopub.execute_input": "2021-10-21T22:54:41.974509Z",
     "iopub.status.busy": "2021-10-21T22:54:41.974315Z",
     "iopub.status.idle": "2021-10-21T22:54:41.978308Z",
     "shell.execute_reply": "2021-10-21T22:54:41.977747Z",
     "shell.execute_reply.started": "2021-10-21T22:54:41.974491Z"
    }
   },
   "outputs": [
    {
     "data": {
      "text/plain": [
       "(5, 5, 3)"
      ]
     },
     "execution_count": 60,
     "metadata": {},
     "output_type": "execute_result"
    }
   ],
   "source": [
    "x.shape"
   ]
  },
  {
   "cell_type": "code",
   "execution_count": null,
   "id": "d99eb18e-f030-40a3-9bbc-bb0e8bf72f8d",
   "metadata": {},
   "outputs": [],
   "source": []
  }
 ],
 "metadata": {
  "kernelspec": {
   "display_name": "Python 3 (ipykernel)",
   "language": "python",
   "name": "python3"
  },
  "language_info": {
   "codemirror_mode": {
    "name": "ipython",
    "version": 3
   },
   "file_extension": ".py",
   "mimetype": "text/x-python",
   "name": "python",
   "nbconvert_exporter": "python",
   "pygments_lexer": "ipython3",
   "version": "3.8.11"
  }
 },
 "nbformat": 4,
 "nbformat_minor": 5
}

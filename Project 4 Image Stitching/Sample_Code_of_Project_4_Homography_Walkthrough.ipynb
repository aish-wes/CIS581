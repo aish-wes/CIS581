{
 "cells": [
  {
   "cell_type": "code",
   "execution_count": 1,
   "metadata": {
    "id": "Mshrfy7IVw-y"
   },
   "outputs": [],
   "source": [
    "import numpy as np"
   ]
  },
  {
   "cell_type": "markdown",
   "metadata": {
    "id": "PzT8adtXnz0w"
   },
   "source": [
    "# Homography"
   ]
  },
  {
   "cell_type": "markdown",
   "metadata": {
    "id": "XD0MHpwbn2Ez"
   },
   "source": [
    "## Singular Value Decomposition"
   ]
  },
  {
   "cell_type": "code",
   "execution_count": 2,
   "metadata": {
    "colab": {
     "base_uri": "https://localhost:8080/",
     "height": 117
    },
    "id": "hvcdWZURn3ua",
    "outputId": "7784e7f2-58ec-4ef0-dd85-d0212288ce05"
   },
   "outputs": [
    {
     "name": "stdout",
     "output_type": "stream",
     "text": [
      "[[-0.3863177   0.92236578]\n",
      " [-0.92236578 -0.3863177 ]]\n",
      "[9.508032   0.77286964]\n",
      "[[-0.42866713 -0.56630692 -0.7039467 ]\n",
      " [-0.80596391 -0.11238241  0.58119908]\n",
      " [ 0.40824829 -0.81649658  0.40824829]]\n"
     ]
    }
   ],
   "source": [
    "A = np.array([[1,2,3],\n",
    "             [4,5,6]])\n",
    "u, s, vh = np.linalg.svd(A)\n",
    "print(u)\n",
    "print(s)\n",
    "print(vh)\n",
    "# Find the singular Value Decomposition of data\n",
    "# Tips: np.linalg.svd"
   ]
  },
  {
   "cell_type": "code",
   "execution_count": 3,
   "metadata": {
    "colab": {
     "base_uri": "https://localhost:8080/",
     "height": 33
    },
    "id": "W0vZGXXsnhJ5",
    "outputId": "00d6ef53-dfb2-44a8-8036-2d442275011e"
   },
   "outputs": [
    {
     "data": {
      "text/plain": [
       "array([ 2.22044605e-16, -4.44089210e-16])"
      ]
     },
     "execution_count": 3,
     "metadata": {},
     "output_type": "execute_result"
    }
   ],
   "source": [
    "v = vh.T\n",
    "A @ v[:, -1] # A @ vh[-1 , :]"
   ]
  },
  {
   "cell_type": "markdown",
   "metadata": {
    "id": "-RjteL1hp1eu"
   },
   "source": [
    "## Feature Match"
   ]
  },
  {
   "cell_type": "code",
   "execution_count": 4,
   "metadata": {
    "id": "V7LFkLA5p40_"
   },
   "outputs": [],
   "source": [
    "from scipy.spatial import distance"
   ]
  },
  {
   "cell_type": "code",
   "execution_count": 5,
   "metadata": {
    "id": "129WJPC3p37c"
   },
   "outputs": [],
   "source": [
    "a = np.array([[4, 3],\n",
    "              [5, 8],\n",
    "              [4, 10],\n",
    "              [10, 8]])\n",
    "b = np.array([[10, 3],\n",
    "              [5, 20],\n",
    "              [4, 2]\n",
    "              ])"
   ]
  },
  {
   "cell_type": "code",
   "execution_count": 6,
   "metadata": {
    "colab": {
     "base_uri": "https://localhost:8080/",
     "height": 83
    },
    "id": "Y8Pfh9pgp8sK",
    "outputId": "f68854ea-7cc1-4a53-9269-f37efe8429d3"
   },
   "outputs": [
    {
     "name": "stdout",
     "output_type": "stream",
     "text": [
      "[[ 6.         17.02938637  1.        ]\n",
      " [ 7.07106781 12.          6.08276253]\n",
      " [ 9.21954446 10.04987562  8.        ]\n",
      " [ 5.         13.          8.48528137]]\n"
     ]
    }
   ],
   "source": [
    "# Find the distance of a and b   \n",
    "d = distance.cdist(a, b)\n",
    "print(d)"
   ]
  },
  {
   "cell_type": "code",
   "execution_count": 7,
   "metadata": {
    "colab": {
     "base_uri": "https://localhost:8080/",
     "height": 83
    },
    "id": "cvhQmfv-AMA9",
    "outputId": "5d6e254a-c0f7-48a9-81ea-a3335357d83d"
   },
   "outputs": [
    {
     "data": {
      "text/plain": [
       "array([[2, 0, 1],\n",
       "       [2, 0, 1],\n",
       "       [2, 0, 1],\n",
       "       [0, 2, 1]])"
      ]
     },
     "execution_count": 7,
     "metadata": {},
     "output_type": "execute_result"
    }
   ],
   "source": [
    "# forward matching\n",
    "idx = np.argsort(d, axis=1)\n",
    "idx"
   ]
  },
  {
   "cell_type": "code",
   "execution_count": 8,
   "metadata": {
    "colab": {
     "base_uri": "https://localhost:8080/",
     "height": 83
    },
    "id": "wgKKLZCcBLDc",
    "outputId": "de03b01b-2666-4578-d751-62a00cb6b330"
   },
   "outputs": [
    {
     "data": {
      "text/plain": [
       "array([[0, 2],\n",
       "       [1, 2],\n",
       "       [2, 2],\n",
       "       [3, 0]])"
      ]
     },
     "execution_count": 8,
     "metadata": {},
     "output_type": "execute_result"
    }
   ],
   "source": [
    "fwd_match_res_no_ratio_test = np.array([[0, 2],\n",
    "                                        [1, 2],\n",
    "                                        [2, 2],\n",
    "                                        [3, 0]])\n",
    "fwd_match_res_no_ratio_test"
   ]
  },
  {
   "cell_type": "code",
   "execution_count": 9,
   "metadata": {
    "colab": {
     "base_uri": "https://localhost:8080/",
     "height": 83
    },
    "id": "xBlpRabTJBAI",
    "outputId": "2187ba39-5599-4f4d-a891-3f1cf281cede"
   },
   "outputs": [
    {
     "data": {
      "text/plain": [
       "array([[1.        ],\n",
       "       [6.08276253],\n",
       "       [8.        ],\n",
       "       [5.        ]])"
      ]
     },
     "execution_count": 9,
     "metadata": {},
     "output_type": "execute_result"
    }
   ],
   "source": [
    "np.take_along_axis(d, idx[:,0:1], axis=1)"
   ]
  },
  {
   "cell_type": "code",
   "execution_count": 10,
   "metadata": {
    "colab": {
     "base_uri": "https://localhost:8080/",
     "height": 83
    },
    "id": "vbPY87znJDs5",
    "outputId": "e3ef9c66-3fcb-494c-a438-67e44dab1630"
   },
   "outputs": [
    {
     "data": {
      "text/plain": [
       "array([[6.        ],\n",
       "       [7.07106781],\n",
       "       [9.21954446],\n",
       "       [8.48528137]])"
      ]
     },
     "execution_count": 10,
     "metadata": {},
     "output_type": "execute_result"
    }
   ],
   "source": [
    "np.take_along_axis(d, idx[:,1:2], axis=1)"
   ]
  },
  {
   "cell_type": "code",
   "execution_count": 11,
   "metadata": {
    "colab": {
     "base_uri": "https://localhost:8080/",
     "height": 83
    },
    "id": "LMy6g9-vBdNR",
    "outputId": "504ae8dd-5ae0-44d2-ee67-151ce9a924c7"
   },
   "outputs": [
    {
     "data": {
      "text/plain": [
       "array([[0.16666667],\n",
       "       [0.86023253],\n",
       "       [0.86772183],\n",
       "       [0.58925565]])"
      ]
     },
     "execution_count": 11,
     "metadata": {},
     "output_type": "execute_result"
    }
   ],
   "source": [
    "ratio = np.take_along_axis(d, idx[:,0:1], axis=1) / np.take_along_axis(d, idx[:,1:2], axis=1)\n",
    "ratio"
   ]
  },
  {
   "cell_type": "code",
   "execution_count": 12,
   "metadata": {
    "colab": {
     "base_uri": "https://localhost:8080/",
     "height": 50
    },
    "id": "uIistNe0JMX3",
    "outputId": "1a99243f-1ad3-4795-f260-720c66c16b8e"
   },
   "outputs": [
    {
     "data": {
      "text/plain": [
       "array([[0, 2],\n",
       "       [3, 0]])"
      ]
     },
     "execution_count": 12,
     "metadata": {},
     "output_type": "execute_result"
    }
   ],
   "source": [
    "fwd_match_res = np.array([[0, 2],\n",
    "                          [3, 0]])\n",
    "fwd_match_res"
   ]
  },
  {
   "cell_type": "code",
   "execution_count": 13,
   "metadata": {
    "colab": {
     "base_uri": "https://localhost:8080/",
     "height": 83
    },
    "id": "4RVNMkLOYa0v",
    "outputId": "cf99e7c1-068e-4f5b-eab2-07ff1c386c44"
   },
   "outputs": [
    {
     "data": {
      "text/plain": [
       "array([[3, 2, 0],\n",
       "       [0, 1, 1],\n",
       "       [1, 3, 2],\n",
       "       [2, 0, 3]])"
      ]
     },
     "execution_count": 13,
     "metadata": {},
     "output_type": "execute_result"
    }
   ],
   "source": [
    "np.argsort(d, axis=0)"
   ]
  },
  {
   "cell_type": "code",
   "execution_count": 14,
   "metadata": {
    "id": "uYg0APgzA_km"
   },
   "outputs": [],
   "source": [
    "bkwd_match_res = np.array([[0, 2]])"
   ]
  },
  {
   "cell_type": "code",
   "execution_count": 15,
   "metadata": {
    "colab": {
     "base_uri": "https://localhost:8080/",
     "height": 33
    },
    "id": "8R2l3qh1Jhmt",
    "outputId": "c0e8a2ab-e1ac-4cf2-a70b-352d85a91ac4"
   },
   "outputs": [
    {
     "data": {
      "text/plain": [
       "{(0, 2), (3, 0)}"
      ]
     },
     "execution_count": 15,
     "metadata": {},
     "output_type": "execute_result"
    }
   ],
   "source": [
    "set(map(tuple, fwd_match_res))"
   ]
  },
  {
   "cell_type": "code",
   "execution_count": 16,
   "metadata": {
    "colab": {
     "base_uri": "https://localhost:8080/",
     "height": 33
    },
    "id": "jwTAHpQBJqxq",
    "outputId": "f27bc688-a00f-4565-86a5-ceeb54fd5799"
   },
   "outputs": [
    {
     "data": {
      "text/plain": [
       "{(0, 2)}"
      ]
     },
     "execution_count": 16,
     "metadata": {},
     "output_type": "execute_result"
    }
   ],
   "source": [
    "intersect = set(map(tuple, fwd_match_res)) & set(map(tuple, bkwd_match_res))\n",
    "intersect"
   ]
  },
  {
   "cell_type": "code",
   "execution_count": 17,
   "metadata": {
    "colab": {
     "base_uri": "https://localhost:8080/",
     "height": 33
    },
    "id": "nytinJa_J2cZ",
    "outputId": "4d6ccc21-73e5-46fd-b3d9-f9404127e093"
   },
   "outputs": [
    {
     "data": {
      "text/plain": [
       "array([[0, 2]])"
      ]
     },
     "execution_count": 17,
     "metadata": {},
     "output_type": "execute_result"
    }
   ],
   "source": [
    "res = np.array(list(intersect))\n",
    "res"
   ]
  },
  {
   "cell_type": "markdown",
   "metadata": {
    "id": "Fv1uLDp7ZMBK"
   },
   "source": [
    "## np.random.choice"
   ]
  },
  {
   "cell_type": "code",
   "execution_count": 18,
   "metadata": {
    "colab": {
     "base_uri": "https://localhost:8080/",
     "height": 34
    },
    "id": "bL2xnrpjZNdx",
    "outputId": "44e4c922-8a59-4b61-983d-7448c379e2ee"
   },
   "outputs": [
    {
     "name": "stdout",
     "output_type": "stream",
     "text": [
      "[2 4 5 8 1]\n"
     ]
    }
   ],
   "source": [
    "num_pts = np.random.choice((10,10))\n",
    "n = 5\n",
    "rand_ind = np.random.choice(num_pts, n, replace=False)\n",
    "print(rand_ind)"
   ]
  },
  {
   "cell_type": "code",
   "execution_count": null,
   "metadata": {},
   "outputs": [],
   "source": []
  }
 ],
 "metadata": {
  "colab": {
   "collapsed_sections": [],
   "name": "Sample Code of Project 4 Homography Walkthrough.ipynb",
   "provenance": []
  },
  "kernelspec": {
   "display_name": "Python 3",
   "language": "python",
   "name": "python3"
  },
  "language_info": {
   "codemirror_mode": {
    "name": "ipython",
    "version": 3
   },
   "file_extension": ".py",
   "mimetype": "text/x-python",
   "name": "python",
   "nbconvert_exporter": "python",
   "pygments_lexer": "ipython3",
   "version": "3.8.5"
  }
 },
 "nbformat": 4,
 "nbformat_minor": 4
}
